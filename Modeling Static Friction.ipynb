{
 "cells": [
  {
   "cell_type": "code",
   "execution_count": 19,
   "metadata": {
    "collapsed": true
   },
   "outputs": [],
   "source": [
    "%matplotlib inline"
   ]
  },
  {
   "cell_type": "markdown",
   "metadata": {},
   "source": [
    "# Modeling Static Friction"
   ]
  },
  {
   "cell_type": "markdown",
   "metadata": {},
   "source": [
    "### Introduction:"
   ]
  },
  {
   "cell_type": "markdown",
   "metadata": {},
   "source": [
    "From everyday experience, we know that it takes a certain amount of force to overcome friction and get an object sliding. The goal of this investigation is to model the dependence of this maximum static frictional force on the mass of the object in question."
   ]
  },
  {
   "cell_type": "markdown",
   "metadata": {},
   "source": [
    "### Procedure:"
   ]
  },
  {
   "cell_type": "markdown",
   "metadata": {},
   "source": [
    "We attached a spring scale to the side of a hollow box on a level surface. Adding additional masses, we measured the amount of force it took to get the box to begin to slide. "
   ]
  },
  {
   "cell_type": "markdown",
   "metadata": {},
   "source": [
    "<figure>\n",
    "    <img src=\"img/Friction Apparatus.png\" width=400px/>\n",
    "    <figcaption style=\"text-align:center; font-size: 12px\">Fig. 1 - Sketch of the apparatus</figcaption>\n",
    "</figure>"
   ]
  },
  {
   "cell_type": "markdown",
   "metadata": {},
   "source": [
    "<figure>\n",
    "    <img src=\"img/Apparatus Photo.jpg\" width=400px/>\n",
    "    <figcaption style=\"text-align:center; font-size: 12px;\">Fig. 2 - Photo of the apparatus</figcaption>\n",
    "</figure>"
   ]
  },
  {
   "cell_type": "markdown",
   "metadata": {
    "collapsed": true
   },
   "source": [
    "### Data and Analysis:"
   ]
  },
  {
   "cell_type": "markdown",
   "metadata": {},
   "source": [
    "Incline setup:\n",
    "\n",
    "| $m_{added}$   | $F_{sp}$     | $f_{s}$    |\n",
    "|-----|-------|------|\n",
    "| 0.3kg  | 2.5N|1.795|\n",
    "|0.5kg| 3.2N|2|\n",
    "|0.6kg|4.5N|3.078|\n",
    "|0.8kg|5.5N|3.602|\n",
    "|1kg|6.5N|5.077|"
   ]
  },
  {
   "cell_type": "code",
   "execution_count": 2,
   "metadata": {
    "collapsed": false
   },
   "outputs": [
    {
     "name": "stdout",
     "output_type": "stream",
     "text": [
      "0.00596575342249\n"
     ]
    },
    {
     "data": {
      "image/png": "[encoded data removed]",
      "text/plain": [
       "<matplotlib.figure.Figure at 0x6e79278>"
      ]
     },
     "metadata": {},
     "output_type": "display_data"
    }
   ],
   "source": [
    "import matplotlib.pyplot as plt\n",
    "import numpy as np\n",
    "from scipy.optimize import curve_fit\n",
    "#220, 1.7\n",
    "m = [300,500,600,800,1000]\n",
    "f = [2.5,3.2,4.5,5.5,6.5]\n",
    "\n",
    "mm= np. linspace(0,700,500)\n",
    "\n",
    "def linear(x, a, b):\n",
    "    return a*x + b\n",
    "\n",
    "a, b=curve_fit(linear, m, f)[0]\n",
    "print(a)\n",
    "\n",
    "plt.xlim(0,900)\n",
    "plt.title(\"Modeling Static Friction\")\n",
    "plt.xlabel(\"Mass Added (g)\")\n",
    "plt.ylabel(\"Max Frictional Force\")\n",
    "plt.plot(m, f,'.')\n",
    "plt.plot(mm, linear(mm, a, b),'--')\n",
    "plt.show()"
   ]
  },
  {
   "cell_type": "markdown",
   "metadata": {
    "collapsed": true
   },
   "source": [
    "Flat Ground Setup:\n",
    "\n",
    "| $m_{added}$   | $F_{max}$     |\n",
    "|-----|-------|\n",
    "| 300g  | 2N|\n",
    "|500g| 2.5N|\n",
    "|600g|3.5N|\n",
    "|800g|3.7N|\n",
    "|1000g|4N|"
   ]
  },
  {
   "cell_type": "code",
   "execution_count": 13,
   "metadata": {
    "collapsed": false
   },
   "outputs": [
    {
     "name": "stdout",
     "output_type": "stream",
     "text": [
      "0.00295205479235\n"
     ]
    },
    {
     "data": {
      "image/png": "[encoded data removed]",
      "text/plain": [
       "<matplotlib.figure.Figure at 0x7dc49e8>"
      ]
     },
     "metadata": {},
     "output_type": "display_data"
    }
   ],
   "source": [
    "import matplotlib.pyplot as plt\n",
    "import numpy as np\n",
    "from scipy.optimize import curve_fit\n",
    "#220, 1.7\n",
    "m = [300,500,600,800,1000]\n",
    "f = [2,2.5,3.5,3.7,4]\n",
    "\n",
    "mm= np. linspace(0,700,500)\n",
    "\n",
    "def linear(x, a, b):\n",
    "    return a*x + b\n",
    "\n",
    "a, b=curve_fit(linear, m, f)[0]\n",
    "print(a)\n",
    "\n",
    "plt.xlim(0,900)\n",
    "plt.title(\"Modeling Static Friction\")\n",
    "plt.xlabel(\"Mass Added (g)\")\n",
    "plt.ylabel(\"Max Frictional Force\")\n",
    "plt.plot(m, f,'.')\n",
    "plt.plot(mm, linear(mm, a, b),'--')\n",
    "plt.show()"
   ]
  },
  {
   "cell_type": "code",
   "execution_count": 17,
   "metadata": {
    "collapsed": false,
    "scrolled": false
   },
   "outputs": [
    {
     "data": {
      "image/png": "[encoded data removed]",
      "text/plain": [
       "<matplotlib.figure.Figure at 0x82e08d0>"
      ]
     },
     "metadata": {},
     "output_type": "display_data"
    }
   ],
   "source": [
    "import matplotlib.pyplot as plt\n",
    "import numpy as np\n",
    "from scipy.optimize import curve_fit\n",
    "\n",
    "m = [300,500,600,800,1000]\n",
    "fs = [2.5,3.2,4.5,5.5,6.5]\n",
    "fi = [2,2.5,3.5,3.7,4]\n",
    "\n",
    "mm= np.linspace(0,700,500)\n",
    "\n",
    "def linear(x, a, b):\n",
    "    return a*x + b\n",
    "\n",
    "a, b=curve_fit(linear, m, fs)[0]\n",
    "c, d=curve_fit(linear, m, fi)[0]\n",
    "plt.xlim(0,900)\n",
    "plt.ylim(0.6,7)\n",
    "plt.title(\"Modeling Static Friction Between Incline and Flat\")\n",
    "plt.xlabel(\"Mass Added (g)\")\n",
    "plt.ylabel(\"Max Frictional Force\")\n",
    "plt.plot(m, fs, '.')\n",
    "plt.plot(m, fi, '.')\n",
    "plt.plot(mm, linear(mm, a, b), '--')\n",
    "plt.plot(mm, linear(mm, c, d), '--')\n",
    "\n",
    "plt.show()"
   ]
  },
  {
   "cell_type": "code",
   "execution_count": 25,
   "metadata": {
    "collapsed": false
   },
   "outputs": [
    {
     "name": "stderr",
     "output_type": "stream",
     "text": [
      "C:\\Miniconda3\\lib\\site-packages\\scipy\\optimize\\minpack.py:604: OptimizeWarning: Covariance of the parameters could not be estimated\n",
      "  category=OptimizeWarning)\n"
     ]
    },
    {
     "data": {
      "image/png": "[encoded data removed]",
      "text/plain": [
       "<matplotlib.figure.Figure at 0x94a76a0>"
      ]
     },
     "metadata": {},
     "output_type": "display_data"
    }
   ],
   "source": [
    "import matplotlib.pyplot as plt\n",
    "import numpy as np\n",
    "from scipy.optimize import curve_fit\n",
    "\n",
    "m = [300,500,600,800,1000]\n",
    "fni = [2.85,4.75,5.70,7.60,9.51]\n",
    "fnf = [2.94,4.9,5.88,7.84,9.8]\n",
    "\n",
    "mm= np.linspace(0,700,500)\n",
    "\n",
    "def linear(x, a, b):\n",
    "    return a*x + b\n",
    "\n",
    "a, b=curve_fit(linear, m, fni)[0]\n",
    "c, d=curve_fit(linear, m, fnf)[0]\n",
    "plt.xlim(70,900)\n",
    "plt.ylim(0.7,10)\n",
    "plt.title(\"Modeling Normal Force\")\n",
    "plt.xlabel(\"Mass Added (g)\")\n",
    "plt.ylabel(\"Max Normal Force\")\n",
    "plt.plot(m, fni, '.')\n",
    "plt.plot(m, fnf, '.')\n",
    "plt.plot(mm, linear(mm, a, b), '--')\n",
    "plt.plot(mm, linear(mm, c, d), '--')\n",
    "\n",
    "plt.show()"
   ]
  },
  {
   "cell_type": "markdown",
   "metadata": {},
   "source": [
    "# The Graph Above\n",
    "### It shows the diffrence between the normal forces on an incline and a flat ground."
   ]
  },
  {
   "cell_type": "markdown",
   "metadata": {},
   "source": [
    "# What we did?\n",
    "### We conducted an experiment to observe if changing the incline would make a difference to the friction/force. In our experiment we utilized a spring measurement to test the amount of force used and we also used 100g weights as well as a wooden box that we placed them in, to analyze the friction/force. One experiment was made with an incline and the other was on flat ground."
   ]
  },
  {
   "cell_type": "markdown",
   "metadata": {},
   "source": [
    "# Why we did it?\n",
    "### We wanted to prove that the incline of a surface would make a difference in the amount of friction/force being applied to the object. We also put graphs and data to show how the incline makes a difference to the force and object being appled to it."
   ]
  },
  {
   "cell_type": "markdown",
   "metadata": {},
   "source": [
    "# What we learned?\n",
    "### We learned that an incline would make a difference to amount of force/friction used and that each time the mass increased the amount of force was also increased. The graphs and data illustrated showed us that both were different from each other and also showing that more force/friction was applied to the wooden box with mass."
   ]
  },
  {
   "cell_type": "code",
   "execution_count": null,
   "metadata": {
    "collapsed": true
   },
   "outputs": [],
   "source": []
  }
 ],
 "metadata": {
  "anaconda-cloud": {},
  "kernelspec": {
   "display_name": "Python 3",
   "language": "python",
   "name": "python3"
  },
  "language_info": {
   "codemirror_mode": {
    "name": "ipython",
    "version": 3
   },
   "file_extension": ".py",
   "mimetype": "text/x-python",
   "name": "python",
   "nbconvert_exporter": "python",
   "pygments_lexer": "ipython3",
   "version": "3.4.4"
  }
 },
 "nbformat": 4,
 "nbformat_minor": 1
}
